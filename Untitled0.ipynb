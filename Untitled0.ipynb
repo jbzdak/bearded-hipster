{
 "metadata": {
  "name": "Untitled0"
 },
 "nbformat": 3,
 "nbformat_minor": 0,
 "worksheets": [
  {
   "cells": [
    {
     "cell_type": "code",
     "collapsed": false,
     "input": [],
     "language": "python",
     "metadata": {},
     "outputs": [],
     "prompt_number": 1
    },
    {
     "cell_type": "code",
     "collapsed": false,
     "input": [
      "import csv \n",
      "import numpy as np\n",
      "import mmap \n",
      "import struct"
     ],
     "language": "python",
     "metadata": {},
     "outputs": [],
     "prompt_number": 2
    },
    {
     "cell_type": "code",
     "collapsed": false,
     "input": [
      "results = []\n",
      "with open(\"0002.asc\") as f: \n",
      "    for line in f: \n",
      "        results.append(int(line.split()[2]))\n",
      "data = np.asanyarray(results)\n",
      "        \n",
      "    "
     ],
     "language": "python",
     "metadata": {},
     "outputs": [],
     "prompt_number": 3
    },
    {
     "cell_type": "code",
     "collapsed": false,
     "input": [
      "INT_TYPES = ('i', 'I', 'l', 'L', 'q', 'Q')\n",
      "FLOAT_TYPES = ('f', 'd')\n",
      "\n",
      "\n",
      "TOSEARCH = 1.4\n",
      "BASEFILE = 'data/2dc0001.'\n",
      "\n",
      "for m in map(lambda x: 10**x, range(-10, 10)):\n",
      "    \n",
      "    to_search = m*TOSEARCH\n",
      "    \n",
      "    for ext in ('MD1', '4M2'): \n",
      "        name = BASEFILE + ext     \n",
      "        with open(name, 'r+b') as f:\n",
      "            raw = mmap.mmap(f.fileno(), 0)\n",
      "            \n",
      "            types = FLOAT_TYPES\n",
      "            \n",
      "            if isinstance(to_search, int):\n",
      "                types =+ INT_TYPES\n",
      "            \n",
      "            for t in types:\n",
      "                for d in ('<'):\n",
      "                    if t in INT_TYPES: \n",
      "                        packed = struct.pack(d+t, int(to_search))\n",
      "                    else: \n",
      "                        packed = struct.pack(d+t, float(to_search))\n",
      "                    cont =  packed in raw[:]\n",
      "                    if cont :\n",
      "                        print to_search, name, d+t, raw[:].index(packed)\n",
      " "
     ],
     "language": "python",
     "metadata": {},
     "outputs": [],
     "prompt_number": 127
    },
    {
     "cell_type": "code",
     "collapsed": false,
     "input": [
      "with open('2dc0002.4M2', 'r+b') as f:\n",
      "    \n",
      "    raw = mmap.mmap(f.fileno(), 0)\n",
      "    for t in ('i', 'I', 'l', 'L', 'q', 'Q'):\n",
      "        for d in ('<', '>'):\n",
      "            #print(d+t)\n",
      "            packed = struct.pack(d+t, 18.8)\n",
      "            cont =  packed in raw[:]\n",
      "            if cont :\n",
      "                print d+t\n",
      "                print raw[:].index(packed)\n"
     ],
     "language": "python",
     "metadata": {},
     "outputs": [],
     "prompt_number": 97
    },
    {
     "cell_type": "code",
     "collapsed": false,
     "input": [],
     "language": "python",
     "metadata": {},
     "outputs": [],
     "prompt_number": 4
    },
    {
     "cell_type": "code",
     "collapsed": false,
     "input": [
      "packed  = struct.pack( '<l', 3106)\n",
      "packed in raw"
     ],
     "language": "python",
     "metadata": {},
     "outputs": [
      {
       "output_type": "pyout",
       "prompt_number": 47,
       "text": [
        "False"
       ]
      }
     ],
     "prompt_number": 47
    },
    {
     "cell_type": "code",
     "collapsed": false,
     "input": [
      "packed in raw\n"
     ],
     "language": "python",
     "metadata": {},
     "outputs": [
      {
       "output_type": "pyout",
       "prompt_number": 33,
       "text": [
        "False"
       ]
      }
     ],
     "prompt_number": 33
    },
    {
     "cell_type": "code",
     "collapsed": false,
     "input": [
      "with open('2dc0001.MD1', 'r+b') as f:\n",
      "    \n",
      "    raw = mmap.mmap(f.fileno(), 0)\n",
      "    print 'oment' in raw"
     ],
     "language": "python",
     "metadata": {},
     "outputs": [
      {
       "output_type": "stream",
       "stream": "stdout",
       "text": [
        "False\n"
       ]
      }
     ],
     "prompt_number": 20
    },
    {
     "cell_type": "code",
     "collapsed": false,
     "input": [
      "data"
     ],
     "language": "python",
     "metadata": {},
     "outputs": [
      {
       "output_type": "pyout",
       "prompt_number": 31,
       "text": [
        "array([3106, 3406, 3388, 3271, 2837, 2259, 1772, 1216,  863,  563,  366,\n",
        "        195,  124,   66,   35,   18,   11,   17,   10,    9,    9,    9,\n",
        "         13,    7,    7,    8,    3,    5,    4,    5,    5,    3,    3,\n",
        "          3,    6,    2,    3,    6,    2,    1,    0,    1,    1,    3,\n",
        "          0,    1,    1,    2,    1,    1,    2,    1,    1,    1,    0,\n",
        "          0,    2,    2,    0,    0,    0,    0,    0,    0,    0,    0,\n",
        "          0,    0,    0,    0,    0,    0,    0,    0,    0,    0,    0,\n",
        "          0,    0,    0,    0,    0,    0,    0,    0,    0,    0,    0,\n",
        "          0,    0,    0,    0,    0,    0,    0,    0,    0,    0,    0,\n",
        "          0,    0,    0,    0,    0,    0,    0,    0,    0,    0,    0,\n",
        "          0,    0,    0,    0,    0,    0,    0,    0,    0,    0,    0,\n",
        "          0,    0,    0,    0,    0,    0,    0,    0,    0,    0,    0,\n",
        "          0,    0,    0,    0,    0,    0,    0,    0,    0,    0,    0,\n",
        "          0,    0,    0,    0,    0,    0,    0,    0,    0,    0,    0,\n",
        "          0,    0,    0,    0,    0,    0,    0,    0,    0,    0,    0,\n",
        "          0,    0,    0,    0,    0,    0,    0,    0,    0,    0,    0,\n",
        "          0,    0,    0,    0,    0,    0,    0,    0,    0,    0,    0,\n",
        "          0,    0,    0,    0,    0,    0,    0,    0,    0,    0,    0,\n",
        "          0,    0,    0,    0,    0,    0,    0,    0,    0,    0,    0,\n",
        "          0,    0,    0,    0,    0,    0,    0,    0,    0,    0,    0,\n",
        "          0,    0,    0,    0,    0,    0,    0,    0,    0,    0,    0,\n",
        "          0,    0,    0,    0,    0,    0,    0,    0,    0,    0,    0,\n",
        "          0,    0,    0,    0,    0,    0,    0,    0,    0,    0,    0,\n",
        "          0,    0,    0])"
       ]
      }
     ],
     "prompt_number": 31
    },
    {
     "cell_type": "code",
     "collapsed": false,
     "input": [
      "with open('2dc0001.MD1', 'r+b') as f:\n",
      "    \n",
      "    raw = mmap.mmap(f.fileno(), 0)\n",
      "    unpacked = struct.unpack_from('<256L', raw[:], 2058)"
     ],
     "language": "python",
     "metadata": {},
     "outputs": [],
     "prompt_number": 21
    },
    {
     "cell_type": "code",
     "collapsed": false,
     "input": [
      "with open('2dc0002.MD1', 'r+b') as f:\n",
      "    \n",
      "    raw = mmap.mmap(f.fileno(), 0)\n",
      "    unpacked = struct.unpack_from('< 2058x 256L 1787x 10s 194x 8s 60x 8s', raw[:])"
     ],
     "language": "python",
     "metadata": {},
     "outputs": [],
     "prompt_number": 56
    },
    {
     "cell_type": "code",
     "collapsed": false,
     "input": [
      "raw[:].index('19:10:58')"
     ],
     "language": "python",
     "metadata": {},
     "outputs": [
      {
       "output_type": "pyout",
       "prompt_number": 53,
       "text": [
        "5141"
       ]
      }
     ],
     "prompt_number": 53
    },
    {
     "cell_type": "code",
     "collapsed": false,
     "input": [
      "5141-2058-256*4-1787-10-194-8"
     ],
     "language": "python",
     "metadata": {},
     "outputs": [
      {
       "output_type": "pyout",
       "prompt_number": 54,
       "text": [
        "60"
       ]
      }
     ],
     "prompt_number": 54
    },
    {
     "cell_type": "code",
     "collapsed": false,
     "input": [
      "unpacked[-2:]"
     ],
     "language": "python",
     "metadata": {},
     "outputs": [
      {
       "output_type": "pyout",
       "prompt_number": 55,
       "text": [
        "('18:52:51', '19:10:58')"
       ]
      }
     ],
     "prompt_number": 55
    },
    {
     "cell_type": "code",
     "collapsed": false,
     "input": [],
     "language": "python",
     "metadata": {},
     "outputs": []
    }
   ],
   "metadata": {}
  }
 ]
}