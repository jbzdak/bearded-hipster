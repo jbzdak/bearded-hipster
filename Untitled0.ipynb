{
 "metadata": {
  "name": "Untitled0"
 },
 "nbformat": 3,
 "nbformat_minor": 0,
 "worksheets": [
  {
   "cells": [
    {
     "cell_type": "code",
     "collapsed": false,
     "input": [],
     "language": "python",
     "metadata": {},
     "outputs": []
    },
    {
     "cell_type": "code",
     "collapsed": false,
     "input": [
      "import csv \n",
      "import numpy as np\n",
      "import mmap \n",
      "import struct"
     ],
     "language": "python",
     "metadata": {},
     "outputs": [],
     "prompt_number": 1
    },
    {
     "cell_type": "code",
     "collapsed": false,
     "input": [
      "results = []\n",
      "with open(\"0002.asc\") as f: \n",
      "    for line in f: \n",
      "        results.append(int(line.split()[2]))\n",
      "data = np.asanyarray(results)\n",
      "        \n",
      "    "
     ],
     "language": "python",
     "metadata": {},
     "outputs": [],
     "prompt_number": 32
    },
    {
     "cell_type": "code",
     "collapsed": false,
     "input": [
      "with open('2dc0001.MD1', 'r+b') as f:\n",
      "    \n",
      "    raw = mmap.mmap(f.fileno(), 0)\n",
      "    for t in ('i', 'I', 'l', 'L', 'q', 'Q'):\n",
      "        for d in ('<', '>'):\n",
      "            #print(d+t)\n",
      "            packed = struct.pack(d+t, 3406)\n",
      "            cont =  packed in raw[:]\n",
      "            if cont :\n",
      "                print raw[:].index(packed)\n",
      "\n",
      "\n"
     ],
     "language": "python",
     "metadata": {},
     "outputs": [
      {
       "output_type": "stream",
       "stream": "stdout",
       "text": [
        "2062\n",
        "6566\n",
        "2062\n",
        "6566\n",
        "2062\n",
        "6566\n",
        "2062\n",
        "6566\n",
        "6562\n",
        "6562\n"
       ]
      }
     ],
     "prompt_number": 26
    },
    {
     "cell_type": "code",
     "collapsed": false,
     "input": [],
     "language": "python",
     "metadata": {},
     "outputs": [
      {
       "output_type": "pyout",
       "prompt_number": 43,
       "text": [
        "50"
       ]
      }
     ],
     "prompt_number": 43
    },
    {
     "cell_type": "code",
     "collapsed": false,
     "input": [
      "packed  = struct.pack( '<l', 3106)\n",
      "packed in raw"
     ],
     "language": "python",
     "metadata": {},
     "outputs": [
      {
       "output_type": "pyout",
       "prompt_number": 47,
       "text": [
        "False"
       ]
      }
     ],
     "prompt_number": 47
    },
    {
     "cell_type": "code",
     "collapsed": false,
     "input": [
      "packed in raw\n"
     ],
     "language": "python",
     "metadata": {},
     "outputs": [
      {
       "output_type": "pyout",
       "prompt_number": 33,
       "text": [
        "False"
       ]
      }
     ],
     "prompt_number": 33
    },
    {
     "cell_type": "code",
     "collapsed": false,
     "input": [
      "with open('2dc0001.MD1', 'r+b') as f:\n",
      "    \n",
      "    raw = mmap.mmap(f.fileno(), 0)\n",
      "    print 'oment' in raw"
     ],
     "language": "python",
     "metadata": {},
     "outputs": [
      {
       "output_type": "stream",
       "stream": "stdout",
       "text": [
        "False\n"
       ]
      }
     ],
     "prompt_number": 20
    },
    {
     "cell_type": "code",
     "collapsed": false,
     "input": [
      "data"
     ],
     "language": "python",
     "metadata": {},
     "outputs": [
      {
       "output_type": "pyout",
       "prompt_number": 31,
       "text": [
        "array([3106, 3406, 3388, 3271, 2837, 2259, 1772, 1216,  863,  563,  366,\n",
        "        195,  124,   66,   35,   18,   11,   17,   10,    9,    9,    9,\n",
        "         13,    7,    7,    8,    3,    5,    4,    5,    5,    3,    3,\n",
        "          3,    6,    2,    3,    6,    2,    1,    0,    1,    1,    3,\n",
        "          0,    1,    1,    2,    1,    1,    2,    1,    1,    1,    0,\n",
        "          0,    2,    2,    0,    0,    0,    0,    0,    0,    0,    0,\n",
        "          0,    0,    0,    0,    0,    0,    0,    0,    0,    0,    0,\n",
        "          0,    0,    0,    0,    0,    0,    0,    0,    0,    0,    0,\n",
        "          0,    0,    0,    0,    0,    0,    0,    0,    0,    0,    0,\n",
        "          0,    0,    0,    0,    0,    0,    0,    0,    0,    0,    0,\n",
        "          0,    0,    0,    0,    0,    0,    0,    0,    0,    0,    0,\n",
        "          0,    0,    0,    0,    0,    0,    0,    0,    0,    0,    0,\n",
        "          0,    0,    0,    0,    0,    0,    0,    0,    0,    0,    0,\n",
        "          0,    0,    0,    0,    0,    0,    0,    0,    0,    0,    0,\n",
        "          0,    0,    0,    0,    0,    0,    0,    0,    0,    0,    0,\n",
        "          0,    0,    0,    0,    0,    0,    0,    0,    0,    0,    0,\n",
        "          0,    0,    0,    0,    0,    0,    0,    0,    0,    0,    0,\n",
        "          0,    0,    0,    0,    0,    0,    0,    0,    0,    0,    0,\n",
        "          0,    0,    0,    0,    0,    0,    0,    0,    0,    0,    0,\n",
        "          0,    0,    0,    0,    0,    0,    0,    0,    0,    0,    0,\n",
        "          0,    0,    0,    0,    0,    0,    0,    0,    0,    0,    0,\n",
        "          0,    0,    0,    0,    0,    0,    0,    0,    0,    0,    0,\n",
        "          0,    0,    0,    0,    0,    0,    0,    0,    0,    0,    0,\n",
        "          0,    0,    0])"
       ]
      }
     ],
     "prompt_number": 31
    },
    {
     "cell_type": "code",
     "collapsed": false,
     "input": [],
     "language": "python",
     "metadata": {},
     "outputs": []
    }
   ],
   "metadata": {}
  }
 ]
}